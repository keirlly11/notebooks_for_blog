{
 "cells": [
  {
   "cell_type": "code",
   "execution_count": 46,
   "metadata": {
    "collapsed": false
   },
   "outputs": [],
   "source": [
    "import datetime\n",
    "import calendar\n",
    "import pytz"
   ]
  },
  {
   "cell_type": "code",
   "execution_count": 47,
   "metadata": {
    "collapsed": true
   },
   "outputs": [],
   "source": [
    "tz_tokyo = pytz.timezone(\"Asia/Tokyo\")\n",
    "tz_utc = pytz.utc"
   ]
  },
  {
   "cell_type": "code",
   "execution_count": 48,
   "metadata": {
    "collapsed": false
   },
   "outputs": [
    {
     "name": "stdout",
     "output_type": "stream",
     "text": [
      "2018-09-15 10:00:00+09:00\n"
     ]
    }
   ],
   "source": [
    "datetime_naive = datetime.datetime(2018, 9, 15, 10, 0, 0) \n",
    "datetime_tokyo_ck = tz_tokyo.localize(datetime_naive)\n",
    "print(datetime_tokyo_ck)"
   ]
  },
  {
   "cell_type": "code",
   "execution_count": 49,
   "metadata": {
    "collapsed": true
   },
   "outputs": [],
   "source": [
    "datetime_tokyo = datetime.datetime(2018, 9, 15, 10, 0, 0, tzinfo=tz_tokyo)"
   ]
  },
  {
   "cell_type": "code",
   "execution_count": 50,
   "metadata": {
    "collapsed": false
   },
   "outputs": [
    {
     "name": "stdout",
     "output_type": "stream",
     "text": [
      "2018-09-15 10:00:00+09:19\n"
     ]
    }
   ],
   "source": [
    "print(datetime_tokyo)"
   ]
  },
  {
   "cell_type": "markdown",
   "metadata": {},
   "source": [
    "- これは問題ありなので、このやり方は使うことができない。\n",
    "- なので、localizeを使用する。"
   ]
  },
  {
   "cell_type": "code",
   "execution_count": 51,
   "metadata": {
    "collapsed": false
   },
   "outputs": [
    {
     "name": "stdout",
     "output_type": "stream",
     "text": [
      "2018-09-15 10:00:00\n"
     ]
    }
   ],
   "source": [
    "datetime_naive = datetime.datetime(2018, 9, 15, 10, 0, 0)\n",
    "print(datetime_naive)"
   ]
  },
  {
   "cell_type": "code",
   "execution_count": 52,
   "metadata": {
    "collapsed": false
   },
   "outputs": [
    {
     "name": "stdout",
     "output_type": "stream",
     "text": [
      "2018-09-15 10:00:00+09:00\n"
     ]
    }
   ],
   "source": [
    "datetime_tokyo = tz_tokyo.localize(datetime_naive)\n",
    "print(datetime_tokyo)"
   ]
  },
  {
   "cell_type": "markdown",
   "metadata": {},
   "source": [
    "- datetimeからunixtimeに変換するにはcalendarのtimegmを使用する。\n",
    "- ここにも落とし穴があり、一度utcに変換しないと求める結果が得られない。"
   ]
  },
  {
   "cell_type": "code",
   "execution_count": 53,
   "metadata": {
    "collapsed": false
   },
   "outputs": [
    {
     "name": "stdout",
     "output_type": "stream",
     "text": [
      "2018-09-15 01:00:00+00:00\n"
     ]
    }
   ],
   "source": [
    "datetime_utc = datetime_tokyo.astimezone(tz_utc)\n",
    "print(datetime_utc)"
   ]
  },
  {
   "cell_type": "code",
   "execution_count": 54,
   "metadata": {
    "collapsed": false
   },
   "outputs": [
    {
     "name": "stdout",
     "output_type": "stream",
     "text": [
      "unixtime_from_utc: 1536973200\n",
      "unixtime_from_tokyo: 1537005600\n"
     ]
    }
   ],
   "source": [
    "# utcに変換した場合と、datetime_tokyoをそのままposixに変換した場合の比較\n",
    "datetime_utc = datetime_tokyo.astimezone(tz_utc)\n",
    "unixtime_from_utc = calendar.timegm(datetime_utc.timetuple())\n",
    "unixtime_from_tokyo = calendar.timegm(datetime_tokyo.timetuple())\n",
    "print(\"unixtime_from_utc: {}\".format(unixtime_from_utc))\n",
    "print(\"unixtime_from_tokyo: {}\".format(unixtime_from_tokyo))"
   ]
  },
  {
   "cell_type": "markdown",
   "metadata": {},
   "source": [
    "- 本来期待する結果は、東京の10時とUTCでの1時が等しいこと。\n",
    "- Unixtimeでも同じ結果を得たい。\n",
    "- ここで間違えてしまうと、時間がおかしくなってしまった状態で計算することになる上、datetimeに戻した時などにも不都合が生じる。"
   ]
  },
  {
   "cell_type": "markdown",
   "metadata": {},
   "source": [
    "unixtimeからDatetimeに戻す"
   ]
  },
  {
   "cell_type": "code",
   "execution_count": 60,
   "metadata": {
    "collapsed": false
   },
   "outputs": [
    {
     "name": "stdout",
     "output_type": "stream",
     "text": [
      "2018-09-15 10:00:00\n"
     ]
    }
   ],
   "source": [
    "# 注意\n",
    "naive_datetime_from_utc_posix = datetime.datetime.fromtimestamp(unixtime_from_utc)\n",
    "print(naive_datetime_from_utc_posix)"
   ]
  },
  {
   "cell_type": "code",
   "execution_count": 56,
   "metadata": {
    "collapsed": false
   },
   "outputs": [
    {
     "name": "stdout",
     "output_type": "stream",
     "text": [
      "None\n"
     ]
    }
   ],
   "source": [
    "print(naive_datetime_from_utc_posix.tzinfo)"
   ]
  },
  {
   "cell_type": "code",
   "execution_count": 57,
   "metadata": {
    "collapsed": false
   },
   "outputs": [
    {
     "data": {
      "text/plain": [
       "datetime.datetime(2018, 9, 15, 1, 0, tzinfo=<UTC>)"
      ]
     },
     "execution_count": 57,
     "metadata": {},
     "output_type": "execute_result"
    }
   ],
   "source": [
    "utc_datetime_from_utc_posix = datetime.datetime.fromtimestamp(unixtime_from_utc).astimezone(tz_utc)\n",
    "utc_datetime_from_utc_posix"
   ]
  },
  {
   "cell_type": "code",
   "execution_count": 58,
   "metadata": {
    "collapsed": false
   },
   "outputs": [
    {
     "data": {
      "text/plain": [
       "datetime.datetime(2018, 9, 15, 10, 0, tzinfo=<DstTzInfo 'Asia/Tokyo' JST+9:00:00 STD>)"
      ]
     },
     "execution_count": 58,
     "metadata": {},
     "output_type": "execute_result"
    }
   ],
   "source": [
    "tokyo_datetime_from_utc_posix = datetime.datetime.fromtimestamp(unixtime_from_utc).astimezone(tz_tokyo)\n",
    "tokyo_datetime_from_utc_posix"
   ]
  },
  {
   "cell_type": "markdown",
   "metadata": {},
   "source": [
    "他にもやり方はあると思うが、今のところ自分としては間違いがないやり方かな、と思っている。"
   ]
  },
  {
   "cell_type": "code",
   "execution_count": 2,
   "metadata": {
    "collapsed": false
   },
   "outputs": [
    {
     "name": "stdout",
     "output_type": "stream",
     "text": [
      "utc_datetime_from_utc_unixtime: 2018-09-15 01:00:00+00:00\n",
      "tokyo_datetime_from_utc_unixtime: 2018-09-15 10:00:00+09:00\n"
     ]
    }
   ],
   "source": [
    "# ライブラリのimport\n",
    "import datetime\n",
    "import calendar\n",
    "import pytz\n",
    "\n",
    "# timezone\n",
    "tz_tokyo = pytz.timezone(\"Asia/Tokyo\")\n",
    "tz_utc = pytz.utc\n",
    "\n",
    "# naiveのdatetime作成\n",
    "datetime_naive = datetime.datetime(2018, 9, 15, 10, 0, 0)\n",
    "\n",
    "# datetime(naive) -> datetime(Asia/Tokyo)\n",
    "datetime_tokyo = tz_tokyo.localize(datetime_naive)\n",
    "\n",
    "# datetime(Asia/Tokyo) -> datetime(utc)\n",
    "datetime_utc = datetime_tokyo.astimezone(tz_utc)\n",
    "\n",
    "# datetime(utc) -> unix_time\n",
    "unixtime_from_utc = calendar.timegm(datetime_utc.timetuple())\n",
    "\n",
    "# unix_time -> datetime(naive)\n",
    "naive_datetime_from_utc_unixtime = datetime.datetime.fromtimestamp(unixtime_from_utc)\n",
    "\n",
    "# datetime(naive) -> datetime(utc)とdatetime(Asia/Tokyo)\n",
    "# この二つは同じタイミングで作成可能\n",
    "utc_datetime_from_utc_unixtime = datetime.datetime.fromtimestamp(unixtime_from_utc ).astimezone(tz_utc)\n",
    "tokyo_datetime_from_utc_unixtime = datetime.datetime.fromtimestamp(unixtime_from_utc ).astimezone(tz_tokyo)\n",
    "\n",
    "print(\"utc_datetime_from_utc_unixtime: {}\".format(utc_datetime_from_utc_unixtime))\n",
    "print(\"tokyo_datetime_from_utc_unixtime: {}\".format(tokyo_datetime_from_utc_unixtime))"
   ]
  },
  {
   "cell_type": "code",
   "execution_count": 1,
   "metadata": {
    "collapsed": false
   },
   "outputs": [
    {
     "name": "stdout",
     "output_type": "stream",
     "text": [
      "utc_datetime_from_utc_unixtime: 2018-09-15 01:00:00+00:00\n",
      "tokyo_datetime_from_utc_unixtime: 2018-09-15 10:00:00+09:00\n"
     ]
    }
   ],
   "source": [
    "# ライブラリのimport\n",
    "import datetime\n",
    "import calendar\n",
    "import pytz\n",
    "\n",
    "# timezone\n",
    "tz_tokyo = pytz.timezone(\"Asia/Tokyo\")\n",
    "tz_utc = pytz.utc\n",
    "\n",
    "# naiveのdatetime作成\n",
    "datetime_naive = datetime.datetime(2018, 9, 15, 10, 0, 0)\n",
    "\n",
    "# datetime(naive) -> datetime(Asia/Tokyo)\n",
    "datetime_tokyo = tz_tokyo.localize(datetime_naive)\n",
    "\n",
    "# datetime(Asia/Tokyo) -> datetime(utc)\n",
    "datetime_utc = datetime_tokyo.astimezone(tz_utc)\n",
    "\n",
    "# datetime(utc) -> unix_time\n",
    "unixtime_from_utc = calendar.timegm(datetime_utc.timetuple())\n",
    "\n",
    "# unix_time -> datetime(naive)\n",
    "# 参考のため。本筋ではここは\n",
    "naive_datetime_from_utc_unixtime = datetime.datetime.fromtimestamp(unixtime_from_utc)\n",
    "\n",
    "# datetime(naive) -> datetime(utc)とdatetime(Asia/Tokyo)\n",
    "# この二つは同じタイミングで作成可能\n",
    "\n",
    "utc_datetime_from_utc_unixtime = naive_datetime_from_utc_unixtime.astimezone(tz_utc)\n",
    "tokyo_datetime_from_utc_unixtime = naive_datetime_from_utc_unixtime.astimezone(tz_tokyo)\n",
    "\n",
    "\n",
    "print(\"utc_datetime_from_utc_unixtime: {}\".format(utc_datetime_from_utc_unixtime))\n",
    "print(\"tokyo_datetime_from_utc_unixtime: {}\".format(tokyo_datetime_from_utc_unixtime))"
   ]
  }
 ],
 "metadata": {
  "anaconda-cloud": {},
  "kernelspec": {
   "display_name": "Python [conda env:ds]",
   "language": "python",
   "name": "conda-env-ds-py"
  },
  "language_info": {
   "codemirror_mode": {
    "name": "ipython",
    "version": 3
   },
   "file_extension": ".py",
   "mimetype": "text/x-python",
   "name": "python",
   "nbconvert_exporter": "python",
   "pygments_lexer": "ipython3",
   "version": "3.6.2"
  }
 },
 "nbformat": 4,
 "nbformat_minor": 1
}
